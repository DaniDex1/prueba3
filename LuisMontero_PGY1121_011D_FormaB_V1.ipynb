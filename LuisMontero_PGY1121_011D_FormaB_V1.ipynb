{
  "nbformat": 4,
  "nbformat_minor": 0,
  "metadata": {
    "colab": {
      "provenance": [],
      "authorship_tag": "ABX9TyNE7+x++AOAcRB6tsqlJdoG",
      "include_colab_link": true
    },
    "kernelspec": {
      "name": "python3",
      "display_name": "Python 3"
    },
    "language_info": {
      "name": "python"
    }
  },
  "cells": [
    {
      "cell_type": "markdown",
      "metadata": {
        "id": "view-in-github",
        "colab_type": "text"
      },
      "source": [
        "<a href=\"https://colab.research.google.com/github/DaniDex1/prueba3/blob/main/LuisMontero_PGY1121_011D_FormaB_V1.ipynb\" target=\"_parent\"><img src=\"https://colab.research.google.com/assets/colab-badge.svg\" alt=\"Open In Colab\"/></a>"
      ]
    },
    {
      "cell_type": "code",
      "source": [
        "datosPersonales={}\n",
        "def MostrarMenu():\n",
        "    print(\"-----------MENU-----------\")\n",
        "    print(\"1. Grabar Datos.\")\n",
        "    print(\"2. Buscar Datos.\")\n",
        "    print(\"3. Imprimir Certificados.\")\n",
        "    print(\"4. Salir.\")\n",
        "    print(\"--------------------------\")\n",
        "\n",
        "def opcion1():\n",
        "    nombre=input(\"Ingrese su nombre: \")\n",
        "    edad=int(input(\"Ingrese su edad: \"))\n",
        "    NIF=input(\"Ingrese su NIF: \")\n",
        "    datosPersonales[NIF]={'nombre': nombre, 'edad': edad}\n",
        "    print(\"Datos grabados con éxito.\")\n",
        "\n",
        "def opcion2():\n",
        "    NIF = input(\"Ingrese el NIF: \")\n",
        "    if NIF in datosPersonales:\n",
        "        persona = datosPersonales[NIF]\n",
        "        print(\"Información encontrada:\")\n",
        "        print(\"Nombre: \",persona['nombre'])\n",
        "        print(\"Edad: \",persona['edad'])\n",
        "        print(\"Usted pertenece en la Unieon Europea.\")\n",
        "    else:\n",
        "        print(\"No se encontró información para el NIF ingresado. \\nUsted no pertenece a la Union Europea\")\n",
        "\n",
        "def opcion3():\n",
        "    print(\"Imprimir Certificado.\")\n",
        "    NIF = input(\"Ingrese el NIF: \")\n",
        "    if NIF in datosPersonales:\n",
        "        persona = datosPersonales[NIF]\n",
        "        print(\"Imprimiendo certificado... \\nCERTIFICADO\")\n",
        "        print(\"Nombre: \",persona['nombre'])\n",
        "\n",
        "        print(\"Edad: \",persona['edad'])\n",
        "        print(\"NIF: \",NIF)\n",
        "\n",
        "        print(\"¡Certificado impreso con éxito!\")\n",
        "    else:\n",
        "        print(\"No se encontró el NIF ingresado.\\nPorfavor intentelo de nuevo.\")\n",
        "\n",
        "def opcion4():\n",
        "    print(\"Saliendo del programa...\\nLuis Montero v0.0.1\")\n",
        "    exit()\n",
        "\n",
        "def menu():\n",
        "    while True:\n",
        "      MostrarMenu()\n",
        "      opcion=input(\"Ingrese una opcion [1-4]: \")\n",
        "\n",
        "      if opcion==\"1\":\n",
        "        opcion1()\n",
        "      elif opcion==\"2\":\n",
        "        opcion2()\n",
        "      elif opcion==\"3\":\n",
        "        opcion3()\n",
        "      elif opcion==\"4\":\n",
        "        opcion4()\n",
        "      else:\n",
        "        print(\"Fuera de rango\\n\")\n",
        "menu()\n"
      ],
      "metadata": {
        "id": "Qq3gUPLELRcR"
      },
      "execution_count": null,
      "outputs": []
    },
    {
      "cell_type": "markdown",
      "source": [
        "# Nueva sección"
      ],
      "metadata": {
        "id": "TpAk9KL-Jq5D"
      }
    }
  ]
}